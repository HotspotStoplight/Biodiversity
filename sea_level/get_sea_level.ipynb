{
 "cells": [
  {
   "cell_type": "code",
   "execution_count": 6,
   "metadata": {},
   "outputs": [],
   "source": [
    "import numpy as np\n",
    "import matplotlib.pyplot as plt\n",
    "import netCDF4 as nc\n",
    "from shapely.geometry import Point, Polygon"
   ]
  },
  {
   "cell_type": "code",
   "execution_count": 11,
   "metadata": {},
   "outputs": [],
   "source": [
    "# input a polygon, the year of projection, the scenario and the confidence percentile\n",
    "# If the polygon is totally on land, return the value of the closest avalable data point to the controid of the polygon\n",
    "# If some part of the polygon is on the sea, return the average of the sea level rise of the points on the sea\n",
    "def get_sea_level(polygon, year=2100, scenario='ssp370', percentile=50):\n",
    "    # open the netCDF file\n",
    "    file_path='data\\\\total_{}_medium_confidence_values.nc'.format(scenario, scenario)\n",
    "    data = nc.Dataset(file_path,'r')\n",
    "    # get the lons and lats\n",
    "    lons = data.variables['lon'][:]\n",
    "    lats = data.variables['lat'][:]\n",
    "    # get the correct year index\n",
    "    year_idx = (year - 2020)//10 \n",
    "    # get the centorid of the polygon\n",
    "    centroid = polygon.centroid\n",
    "    lon, lat = centroid.x, centroid.y\n",
    "    # first find the idxs of lons and lats that are close to the input lon\n",
    "    lon_idxs = np.where(np.isclose(lons, lon, atol=20))[0]\n",
    "    lat_idxs = np.where(np.isclose(lats, lat, atol=20))[0]\n",
    "    # get the intersection of the two idxs\n",
    "    idxs = np.intersect1d(lon_idxs, lat_idxs)\n",
    "\n",
    "    if len(idxs) == 0:\n",
    "        print(\"Please input a valid coordinate. The centroid is far away from the sea.\")\n",
    "        return None\n",
    "    # check if the polygon is totally on land\n",
    "    contains_sea=False\n",
    "    total_sea_level = 0\n",
    "    points_on_sea = 0\n",
    "    for idx in idxs:\n",
    "        # check if the point is in polygon\n",
    "        if Point(lons[idx], lats[idx]).within(polygon):\n",
    "            contains_sea = True\n",
    "            total_sea_level += data.variables['sea_level_change'][percentile, year_idx, idx]\n",
    "            points_on_sea += 1\n",
    "    if contains_sea:\n",
    "        print(f\"The polygon contains {points_on_sea} points on the sea\")\n",
    "        return float(total_sea_level/points_on_sea)\n",
    "    else:\n",
    "        # then find the closest (lat,lon) pair to the input (lat,lon) among these idxs\n",
    "        best_distance = np.inf\n",
    "        closest_location_idx = None \n",
    "        km_per_degree_lat = 111\n",
    "        km_per_degree_lon = 111*np.cos(np.radians(lat))\n",
    "        for idx in idxs:\n",
    "            curr_lon, curr_lat = lons[idx], lats[idx]\n",
    "            squared_distance = (km_per_degree_lon*(curr_lon - lon))**2 + (km_per_degree_lat*(curr_lat - lat))**2\n",
    "            if squared_distance < best_distance:\n",
    "                best_distance = squared_distance\n",
    "                closest_location_idx = idx\n",
    "        # print the closest distance\n",
    "        print(f\"Closest available data point is at ({lons[closest_location_idx]}, {lats[closest_location_idx]})\")\n",
    "        print(f\"The distance to the closest data point is {np.sqrt(best_distance)} km\")\n",
    "        \n",
    "        \n",
    "        # get the sea level data at that point\n",
    "        sea_level = data.variables['sea_level_change'][percentile, year_idx, closest_location_idx]\n",
    "        return float(sea_level)"
   ]
  },
  {
   "cell_type": "code",
   "execution_count": 12,
   "metadata": {},
   "outputs": [
    {
     "name": "stdout",
     "output_type": "stream",
     "text": [
      "The polygon contains 4 points on the sea\n"
     ]
    },
    {
     "data": {
      "text/plain": [
       "695.0"
      ]
     },
     "execution_count": 12,
     "metadata": {},
     "output_type": "execute_result"
    }
   ],
   "source": [
    "# try polygon of costa rica\n",
    "polygon = Polygon([(-85, 8), (-83, 8), (-83, 11), (-85, 11)])\n",
    "\n",
    "get_sea_level(polygon, year=2100, scenario='ssp370', percentile=50)"
   ]
  }
 ],
 "metadata": {
  "kernelspec": {
   "display_name": "base",
   "language": "python",
   "name": "python3"
  },
  "language_info": {
   "codemirror_mode": {
    "name": "ipython",
    "version": 3
   },
   "file_extension": ".py",
   "mimetype": "text/x-python",
   "name": "python",
   "nbconvert_exporter": "python",
   "pygments_lexer": "ipython3",
   "version": "3.11.5"
  }
 },
 "nbformat": 4,
 "nbformat_minor": 2
}
