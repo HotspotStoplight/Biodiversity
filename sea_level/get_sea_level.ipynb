{
 "cells": [
  {
   "cell_type": "code",
   "execution_count": 1,
   "metadata": {},
   "outputs": [],
   "source": [
    "import numpy as np\n",
    "import matplotlib.pyplot as plt\n",
    "import netCDF4 as nc"
   ]
  },
  {
   "cell_type": "code",
   "execution_count": 4,
   "metadata": {},
   "outputs": [],
   "source": [
    "# input a cooridnate(lon,lat) and return the sea level data at that point under the given year, scenario and confidence percentile, in mm\n",
    "def get_sea_level(lon, lat, year=2100, scenario='ssp370', percentile=50):\n",
    "    # open the netCDF file\n",
    "    file_path='data\\\\total_{}_medium_confidence_values.nc'.format(scenario, scenario)\n",
    "    data = nc.Dataset(file_path,'r')\n",
    "    # get the latitude and longitude data\n",
    "    lons = data.variables['lon'][:]\n",
    "    lats = data.variables['lat'][:]\n",
    "    # first find the idxs of lons that are close to the input lon\n",
    "    lon_idxs = np.where(np.isclose(lons, lon, atol=0.5))[0]\n",
    "    # then find the closest (lat,lon) pair to the input (lat,lon) among these idxs\n",
    "    best_distance = np.inf\n",
    "    closest_location_idx = None \n",
    "    for lon_idx in lon_idxs:\n",
    "        curr_lon, curr_lat = lons[lon_idx], lats[lon_idx]\n",
    "        squared_distance = (curr_lon - lon)**2 + (curr_lat - lat)**2\n",
    "        if squared_distance < best_distance:\n",
    "            best_distance = squared_distance\n",
    "            closest_location_idx = lon_idx\n",
    "    # print the closest distance\n",
    "    print(f\"Closest available data point is at ({lons[closest_location_idx]}, {lats[closest_location_idx]})\")\n",
    "    # check if the closest distance is acceptable\n",
    "    if best_distance > 2:\n",
    "        print(\"Please input a valid coordinate. The closest available data point is too far away.\")\n",
    "    \n",
    "    # get the correct year index\n",
    "    year_idx = (year - 2020)//10 \n",
    "    # get the sea level data at that point\n",
    "    sea_level = data.variables['sea_level_change'][percentile, year_idx, closest_location_idx]\n",
    "    return float(sea_level)"
   ]
  },
  {
   "cell_type": "code",
   "execution_count": 6,
   "metadata": {},
   "outputs": [
    {
     "name": "stdout",
     "output_type": "stream",
     "text": [
      "Closest available data point is at (-178.0, 12.0)\n"
     ]
    },
    {
     "data": {
      "text/plain": [
       "345.0"
      ]
     },
     "execution_count": 6,
     "metadata": {},
     "output_type": "execute_result"
    }
   ],
   "source": [
    "get_sea_level(-178, 12, 2080, 'ssp126')"
   ]
  }
 ],
 "metadata": {
  "kernelspec": {
   "display_name": "base",
   "language": "python",
   "name": "python3"
  },
  "language_info": {
   "codemirror_mode": {
    "name": "ipython",
    "version": 3
   },
   "file_extension": ".py",
   "mimetype": "text/x-python",
   "name": "python",
   "nbconvert_exporter": "python",
   "pygments_lexer": "ipython3",
   "version": "3.11.5"
  }
 },
 "nbformat": 4,
 "nbformat_minor": 2
}
